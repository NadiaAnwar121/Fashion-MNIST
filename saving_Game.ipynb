{
  "nbformat": 4,
  "nbformat_minor": 0,
  "metadata": {
    "colab": {
      "provenance": [],
      "authorship_tag": "ABX9TyNIPkqUoRTy5XDkDpUohVOq",
      "include_colab_link": true
    },
    "kernelspec": {
      "name": "python3",
      "display_name": "Python 3"
    },
    "language_info": {
      "name": "python"
    }
  },
  "cells": [
    {
      "cell_type": "markdown",
      "metadata": {
        "id": "view-in-github",
        "colab_type": "text"
      },
      "source": [
        "<a href=\"https://colab.research.google.com/github/NadiaAnwar121/Fashion-MNIST/blob/main/saving_Game.ipynb\" target=\"_parent\"><img src=\"https://colab.research.google.com/assets/colab-badge.svg\" alt=\"Open In Colab\"/></a>"
      ]
    },
    {
      "cell_type": "code",
      "execution_count": null,
      "metadata": {
        "colab": {
          "base_uri": "https://localhost:8080/"
        },
        "id": "FIQluD8iIowP",
        "outputId": "07d2b5c3-76a4-43e1-9e7a-14b8b130aecc"
      },
      "outputs": [
        {
          "output_type": "stream",
          "name": "stdout",
          "text": [
            "Welcome to the Wild Animal Survival Game!\n",
            "You find yourself lost in a dense forest.\n",
            "Uh-oh! You have encountered a wolf!\n",
            "What will you do?\n",
            "1. Try to scare it away.\n",
            "2. Slowly back away.\n",
            "Enter your choice (1 or 2): 2\n",
            "You slowly back away from the wolf and manage to escape safely.\n",
            "Your health: 93%\n",
            "Uh-oh! You have encountered a lion!\n",
            "What will you do?\n",
            "1. Try to scare it away.\n",
            "2. Slowly back away.\n",
            "Enter your choice (1 or 2): 2\n",
            "You slowly back away from the lion and manage to escape safely.\n",
            "Your health: 76%\n",
            "Uh-oh! You have encountered a bear!\n",
            "What will you do?\n",
            "1. Try to scare it away.\n",
            "2. Slowly back away.\n",
            "Enter your choice (1 or 2): 2\n",
            "You slowly back away from the bear and manage to escape safely.\n",
            "Your health: 70%\n",
            "Uh-oh! You have encountered a wolf!\n",
            "What will you do?\n",
            "1. Try to scare it away.\n",
            "2. Slowly back away.\n",
            "Enter your choice (1 or 2): 1\n",
            "You successfully scared away the wolf. Phew!\n",
            "Your health: 57%\n",
            "Uh-oh! You have encountered a bear!\n",
            "What will you do?\n",
            "1. Try to scare it away.\n",
            "2. Slowly back away.\n",
            "Enter your choice (1 or 2): 2\n",
            "You slowly back away from the bear and manage to escape safely.\n",
            "Your health: 50%\n",
            "Uh-oh! You have encountered a wolf!\n",
            "What will you do?\n",
            "1. Try to scare it away.\n",
            "2. Slowly back away.\n",
            "Enter your choice (1 or 2): 1\n",
            "You successfully scared away the wolf. Phew!\n",
            "Your health: 43%\n",
            "Uh-oh! You have encountered a lion!\n",
            "What will you do?\n",
            "1. Try to scare it away.\n",
            "2. Slowly back away.\n",
            "Enter your choice (1 or 2): 2\n",
            "You slowly back away from the lion and manage to escape safely.\n",
            "Your health: 26%\n",
            "Uh-oh! You have encountered a wolf!\n",
            "What will you do?\n",
            "1. Try to scare it away.\n",
            "2. Slowly back away.\n",
            "Enter your choice (1 or 2): 1\n",
            "Your attempt to scare the wolf failed. It attacked you. Game Over!\n"
          ]
        }
      ],
      "source": [
        "import random\n",
        "\n",
        "def get_choice():\n",
        "    choice = None\n",
        "    while choice not in ['1', '2']:\n",
        "        choice = input(\"Enter your choice (1 or 2): \")\n",
        "    return choice\n",
        "\n",
        "def encounter_wild_animal():\n",
        "    animal_list = ['lion', 'tiger', 'bear', 'wolf']\n",
        "    animal = random.choice(animal_list)\n",
        "    print(f\"Uh-oh! You have encountered a {animal}!\")\n",
        "\n",
        "    print(\"What will you do?\")\n",
        "    print(\"1. Try to scare it away.\")\n",
        "    print(\"2. Slowly back away.\")\n",
        "    choice = get_choice()\n",
        "\n",
        "    if choice == '1':\n",
        "        if random.random() < 0.5:\n",
        "            print(f\"You successfully scared away the {animal}. Phew!\")\n",
        "        else:\n",
        "            print(f\"Your attempt to scare the {animal} failed. It attacked you. Game Over!\")\n",
        "            return False\n",
        "    else:\n",
        "        print(f\"You slowly back away from the {animal} and manage to escape safely.\")\n",
        "\n",
        "    return True\n",
        "\n",
        "def game():\n",
        "    print(\"Welcome to the Wild Animal Survival Game!\")\n",
        "    print(\"You find yourself lost in a dense forest.\")\n",
        "\n",
        "    health = 100\n",
        "    while health > 0:\n",
        "        if not encounter_wild_animal():\n",
        "            break\n",
        "\n",
        "        health -= random.randint(5, 20)\n",
        "        print(f\"Your health: {health}%\")\n",
        "        if health <= 0:\n",
        "            print(\"Oh no! Your health has dropped to 0%. You didn't make it out alive.\")\n",
        "\n",
        "if __name__ == \"__main__\":\n",
        "    game()"
      ]
    },
    {
      "cell_type": "code",
      "source": [],
      "metadata": {
        "id": "GevjF_0GIptU"
      },
      "execution_count": null,
      "outputs": []
    }
  ]
}