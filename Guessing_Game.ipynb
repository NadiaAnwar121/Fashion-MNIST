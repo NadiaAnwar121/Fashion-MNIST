{
  "nbformat": 4,
  "nbformat_minor": 0,
  "metadata": {
    "colab": {
      "provenance": [],
      "gpuType": "T4",
      "authorship_tag": "ABX9TyPXbmtlj2cQxzxXYEqYGTIL",
      "include_colab_link": true
    },
    "kernelspec": {
      "name": "python3",
      "display_name": "Python 3"
    },
    "language_info": {
      "name": "python"
    },
    "accelerator": "GPU"
  },
  "cells": [
    {
      "cell_type": "markdown",
      "metadata": {
        "id": "view-in-github",
        "colab_type": "text"
      },
      "source": [
        "<a href=\"https://colab.research.google.com/github/NadiaAnwar121/Fashion-MNIST/blob/main/Guessing_Game.ipynb\" target=\"_parent\"><img src=\"https://colab.research.google.com/assets/colab-badge.svg\" alt=\"Open In Colab\"/></a>"
      ]
    },
    {
      "cell_type": "code",
      "execution_count": null,
      "metadata": {
        "colab": {
          "base_uri": "https://localhost:8080/"
        },
        "id": "da4KHuUtG00b",
        "outputId": "70d16342-2d05-4a00-fc48-1f77e91bee68"
      },
      "outputs": [
        {
          "metadata": {
            "tags": null
          },
          "name": "stdout",
          "output_type": "stream",
          "text": [
            "Welcome to the Number Guessing Game!\n",
            "I am thinking of a number between 1 and 100.\n",
            "Higher! Try again.\n",
            "Lower! Try again.\n",
            "Lower! Try again.\n",
            "Lower! Try again.\n",
            "Lower! Try again.\n",
            "Lower! Try again.\n",
            "Lower! Try again.\n",
            "Lower! Try again.\n",
            "Higher! Try again.\n",
            "Higher! Try again.\n",
            "Higher! Try again.\n",
            "Higher! Try again.\n",
            "Higher! Try again.\n",
            "Higher! Try again.\n"
          ]
        }
      ],
      "source": [
        "import random\n",
        "\n",
        "def guessing_game():\n",
        "    print(\"Welcome to the Number Guessing Game!\")\n",
        "    print(\"I am thinking of a number between 1 and 100.\")\n",
        "\n",
        "    # Set the range and generate the random number\n",
        "    lower_bound = 1\n",
        "    upper_bound = 100\n",
        "    secret_number = random.randint(lower_bound, upper_bound)\n",
        "\n",
        "    attempts = 0\n",
        "    while True:\n",
        "        try:\n",
        "            guess = int(input(\"Enter your guess: \"))\n",
        "            attempts += 1\n",
        "\n",
        "            if guess == secret_number:\n",
        "                print(f\"Congratulations! You guessed the correct number {secret_number} in {attempts} attempts.\")\n",
        "                break\n",
        "            elif guess < secret_number:\n",
        "                print(\"Higher! Try again.\")\n",
        "            else:\n",
        "                print(\"Lower! Try again.\")\n",
        "        except ValueError:\n",
        "            print(\"Invalid input. Please enter a valid number.\")\n",
        "\n",
        "if __name__ == \"__main__\":\n",
        "    guessing_game()"
      ]
    },
    {
      "cell_type": "code",
      "source": [],
      "metadata": {
        "id": "7lPDtgpFG3X4"
      },
      "execution_count": null,
      "outputs": []
    }
  ]
}